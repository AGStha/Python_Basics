{
 "cells": [
  {
   "cell_type": "markdown",
   "metadata": {
    "collapsed": true
   },
   "source": [
    "# Statements Assessment Test\n",
    "Let's test your knowledge!"
   ]
  },
  {
   "cell_type": "markdown",
   "metadata": {},
   "source": [
    "_____\n",
    "**Use <code>for</code>, .split(), and <code>if</code> to create a Statement that will print out words that start with 's':**"
   ]
  },
  {
   "cell_type": "code",
   "execution_count": 1,
   "metadata": {},
   "outputs": [],
   "source": [
    "st = 'Print only the words that start with s in this sentence'"
   ]
  },
  {
   "cell_type": "code",
   "execution_count": 6,
   "metadata": {},
   "outputs": [
    {
     "name": "stdout",
     "output_type": "stream",
     "text": [
      "['Print', 'only', 'the', 'words', 'that', 'start', 'with', 's', 'in', 'this', 'sentence']\nstart\ns\nsentence\n"
     ]
    }
   ],
   "source": [
    "#Code here\n",
    "list=st.split()\n",
    "'''for item in st:\n",
    "    st.split()\n",
    "    if item==s:\n",
    "        print()'''\n",
    "print(list)\n",
    "for item in list:\n",
    "    if item[0]=='s':\n",
    "        print(item)\n",
    "    else:\n",
    "        continue"
   ]
  },
  {
   "cell_type": "markdown",
   "metadata": {},
   "source": [
    "______\n",
    "**Use range() to print all the even numbers from 0 to 10.**"
   ]
  },
  {
   "cell_type": "code",
   "execution_count": 8,
   "metadata": {},
   "outputs": [
    {
     "name": "stdout",
     "output_type": "stream",
     "text": [
      "2\n4\n6\n8\n10\n"
     ]
    }
   ],
   "source": [
    "#Code Here\n",
    "for num in range(0,11,2):\n",
    "    if(num==0):\n",
    "        continue\n",
    "    else:\n",
    "        print(num)\n",
    "    "
   ]
  },
  {
   "cell_type": "markdown",
   "metadata": {},
   "source": [
    "___\n",
    "**Use a List Comprehension to create a list of all numbers between 1 and 50 that are divisible by 3.**"
   ]
  },
  {
   "cell_type": "code",
   "execution_count": 9,
   "metadata": {},
   "outputs": [
    {
     "data": {
      "text/plain": [
       "[3, 6, 9, 12, 15, 18, 21, 24, 27, 30, 33, 36, 39, 42, 45, 48]"
      ]
     },
     "execution_count": 9,
     "metadata": {},
     "output_type": "execute_result"
    }
   ],
   "source": [
    "#Code in this cell\n",
    "[num for num in range(1,50) if num%3==0]"
   ]
  },
  {
   "cell_type": "markdown",
   "metadata": {},
   "source": [
    "_____\n",
    "**Go through the string below and if the length of a word is even print \"even!\"**"
   ]
  },
  {
   "cell_type": "code",
   "execution_count": null,
   "metadata": {},
   "outputs": [],
   "source": [
    "st = 'Print every word in this sentence that has an even number of letters'"
   ]
  },
  {
   "cell_type": "code",
   "execution_count": 15,
   "metadata": {},
   "outputs": [
    {
     "name": "stdout",
     "output_type": "stream",
     "text": [
      "word\nin\nthis\nsentence\nthat\nan\neven\nnumber\nof\n"
     ]
    }
   ],
   "source": [
    "#Code in this cell\n",
    "st = 'Print every word in this sentence that has an even number of letters'\n",
    "malist=st.split()\n",
    "for word in malist:\n",
    "    if len(word)%2==0:\n",
    "        print(word)\n",
    "    "
   ]
  },
  {
   "cell_type": "markdown",
   "metadata": {},
   "source": [
    "____\n",
    "**Write a program that prints the integers from 1 to 100. But for multiples of three print \"Fizz\" instead of the number, and for the multiples of five print \"Buzz\". For numbers which are multiples of both three and five print \"FizzBuzz\".**"
   ]
  },
  {
   "cell_type": "code",
   "execution_count": 23,
   "metadata": {
    "collapsed": true
   },
   "outputs": [
    {
     "name": "stdout",
     "output_type": "stream",
     "text": [
      "1\n2\nfiss\n3\n4\nbuss\n5\nfiss\n6\n7\n8\nfiss\n9\nbuss\n10\n11\nfiss\n12\n13\n14\nfiss buss\n15\n16\n17\nfiss\n18\n19\nbuss\n20\nfiss\n21\n22\n23\nfiss\n24\nbuss\n25\n26\nfiss\n27\n28\n29\nfiss buss\n30\n31\n32\nfiss\n33\n34\nbuss\n35\nfiss\n36\n37\n38\nfiss\n39\nbuss\n40\n41\nfiss\n42\n43\n44\nfiss buss\n45\n46\n47\nfiss\n48\n49\nbuss\n50\nfiss\n51\n52\n53\nfiss\n54\nbuss\n55\n56\nfiss\n57\n58\n59\nfiss buss\n60\n61\n62\nfiss\n63\n64\nbuss\n65\nfiss\n66\n67\n68\nfiss\n69\nbuss\n70\n71\nfiss\n72\n73\n74\nfiss buss\n75\n76\n77\nfiss\n78\n79\nbuss\n80\nfiss\n81\n82\n83\nfiss\n84\nbuss\n85\n86\nfiss\n87\n88\n89\nfiss buss\n90\n91\n92\nfiss\n93\n94\nbuss\n95\nfiss\n96\n97\n98\nfiss\n99\n"
     ]
    }
   ],
   "source": [
    "#Code in this \n",
    "\n",
    "for num in range(1,100):\n",
    "    if num%3==0:\n",
    "        if num%3==0 and num%5==0:\n",
    "            print ('fiss buss')\n",
    "        else:\n",
    "            print('fiss')\n",
    "    elif num%5==0:\n",
    "        if num%5==0 and num%3==0:\n",
    "            print('fissbuss')\n",
    "        else:\n",
    "            print('buss')\n",
    "\n",
    "    print(num)"
   ]
  },
  {
   "cell_type": "markdown",
   "metadata": {},
   "source": [
    "____\n",
    "**Use List Comprehension to create a list of the first letters of every word in the string below:**"
   ]
  },
  {
   "cell_type": "code",
   "execution_count": null,
   "metadata": {},
   "outputs": [],
   "source": [
    "st = 'Create a list of the first letters of every word in this string'"
   ]
  },
  {
   "cell_type": "code",
   "execution_count": 25,
   "metadata": {},
   "outputs": [
    {
     "data": {
      "text/plain": [
       "['C', 'a', 'l', 'o', 't', 'f', 'l', 'o', 'e', 'w', 'i', 't', 's']"
      ]
     },
     "execution_count": 25,
     "metadata": {},
     "output_type": "execute_result"
    }
   ],
   "source": [
    "#Code in this cell\n",
    "st = 'Create a list of the first letters of every word in this string'\n",
    "word=st.split()\n",
    "[w[0] for w in word ]"
   ]
  },
  {
   "cell_type": "markdown",
   "metadata": {},
   "source": [
    "### Great Job!"
   ]
  }
 ],
 "metadata": {
  "kernelspec": {
   "display_name": "Python 3",
   "language": "python",
   "name": "python3"
  },
  "language_info": {
   "codemirror_mode": {
    "name": "ipython",
    "version": 3
   },
   "file_extension": ".py",
   "mimetype": "text/x-python",
   "name": "python",
   "nbconvert_exporter": "python",
   "pygments_lexer": "ipython3",
   "version": "3.6.2"
  }
 },
 "nbformat": 4,
 "nbformat_minor": 1
}
