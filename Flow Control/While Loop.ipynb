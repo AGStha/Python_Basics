{
 "cells": [
  {
   "cell_type": "markdown",
   "metadata": {
    "collapsed": true
   },
   "source": [
    "#The while Loop\n",
    "\n",
    "With the while loop we can execute a set of statements as long as a condition is true."
   ]
  },
  {
   "cell_type": "code",
   "execution_count": 20,
   "metadata": {},
   "outputs": [
    {
     "name": "stdout",
     "output_type": "stream",
     "text": [
      "10\n11\n12\n"
     ]
    }
   ],
   "source": [
    "a=10\n",
    "while(a<20):\n",
    "    if(a==13):\n",
    "        break\n",
    "    print(a)\n",
    "    a+=1\n",
    "else:\n",
    "    print('end ')\n"
   ]
  },
  {
   "cell_type": "markdown",
   "metadata": {},
   "source": [
    "#Break, Continue and pass keyword\n"
   ]
  },
  {
   "cell_type": "markdown",
   "metadata": {},
   "source": [
    "#pass does nothing but passes the error in synta\n",
    "#Continue goes to the top of the enclosing loop\n",
    "#Break : Breaks out of the current closest enclosing loop.\n"
   ]
  },
  {
   "cell_type": "code",
   "execution_count": 13,
   "metadata": {},
   "outputs": [
    {
     "name": "stdout",
     "output_type": "stream",
     "text": [
      "A\nu\nj\n"
     ]
    }
   ],
   "source": [
    "name='Anuj'\n",
    "for i in name:\n",
    "    if i=='n':\n",
    "        continue\n",
    "    print(i)\n",
    "for k in name:\n",
    "    pass\n",
    "\n",
    "        \n"
   ]
  },
  {
   "cell_type": "markdown",
   "metadata": {},
   "source": [
    "Here the continue skips the\n",
    "if argument:\n",
    "\n",
    "# here pass is used such that the error doesnt pops out..until we add some ccode there.\n"
   ]
  },
  {
   "cell_type": "code",
   "execution_count": 17,
   "metadata": {},
   "outputs": [
    {
     "name": "stdout",
     "output_type": "stream",
     "text": [
      "2\n3\n4\n"
     ]
    }
   ],
   "source": [
    "my_list=[2,3,4,5]\n",
    "for i in my_list:\n",
    "    print(i)\n",
    "    if i==4:\n",
    "        break\n",
    "        "
   ]
  },
  {
   "cell_type": "code",
   "execution_count": null,
   "metadata": {},
   "outputs": [],
   "source": []
  }
 ],
 "metadata": {
  "kernelspec": {
   "display_name": "Python 2",
   "language": "python",
   "name": "python2"
  },
  "language_info": {
   "codemirror_mode": {
    "name": "ipython",
    "version": 2
   },
   "file_extension": ".py",
   "mimetype": "text/x-python",
   "name": "python",
   "nbconvert_exporter": "python",
   "pygments_lexer": "ipython2",
   "version": "2.7.6"
  }
 },
 "nbformat": 4,
 "nbformat_minor": 0
}
